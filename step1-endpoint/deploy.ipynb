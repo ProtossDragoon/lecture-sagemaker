{
 "cells": [
  {
   "cell_type": "code",
   "execution_count": null,
   "metadata": {},
   "outputs": [],
   "source": [
    "!python3 -m pip install --upgrade pip\n",
    "!python3 -m pip install -r requirements.txt"
   ]
  },
  {
   "cell_type": "code",
   "execution_count": 1,
   "metadata": {},
   "outputs": [
    {
     "name": "stdout",
     "output_type": "stream",
     "text": [
      "sagemaker.config INFO - Not applying SDK defaults from location: /Library/Application Support/sagemaker/config.yaml\n",
      "sagemaker.config INFO - Not applying SDK defaults from location: /Users/janghoo/Library/Application Support/sagemaker/config.yaml\n",
      "sagemaker.config INFO - Not applying SDK defaults from location: /Library/Application Support/sagemaker/config.yaml\n",
      "sagemaker.config INFO - Not applying SDK defaults from location: /Users/janghoo/Library/Application Support/sagemaker/config.yaml\n"
     ]
    }
   ],
   "source": [
    "# 이 노트북을 실행하기 전에 aws cli에 등록된 유저 계정이 적절한 권한을 가지고 있음을 확인해야 함.\n",
    "import sagemaker\n",
    "\n",
    "\n",
    "model_package_arn = \"\"\"\\\n",
    "arn:aws:sagemaker:us-east-1:523851787595:\\\n",
    "model-package/canvas-New-model-2023-9-13-2-45-PM/1\\\n",
    "\"\"\"\n",
    "model = sagemaker.ModelPackage(\n",
    "    role='AmazonSageMakerServiceCatalogProductsExecutionRole',\n",
    "    model_package_arn=model_package_arn, \n",
    "    sagemaker_session=sagemaker.session.Session()\n",
    ")"
   ]
  },
  {
   "cell_type": "code",
   "execution_count": 2,
   "metadata": {},
   "outputs": [
    {
     "name": "stdout",
     "output_type": "stream",
     "text": [
      "['ModelPackageGroupName',\n",
      " 'ModelPackageVersion',\n",
      " 'ModelPackageArn',\n",
      " 'ModelPackageDescription',\n",
      " 'CreationTime',\n",
      " 'InferenceSpecification',\n",
      " 'ModelPackageStatus',\n",
      " 'ModelPackageStatusDetails',\n",
      " 'CertifyForMarketplace',\n",
      " 'ModelApprovalStatus',\n",
      " 'CreatedBy',\n",
      " 'ModelMetrics',\n",
      " 'LastModifiedTime',\n",
      " 'LastModifiedBy',\n",
      " 'ApprovalDescription',\n",
      " 'ResponseMetadata']\n"
     ]
    }
   ],
   "source": [
    "import pprint\n",
    "import boto3\n",
    "\n",
    "\n",
    "sm_client = boto3.client('sagemaker')\n",
    "pprint.pprint(list(sm_client.describe_model_package(ModelPackageName=model_package_arn).keys()))"
   ]
  },
  {
   "cell_type": "code",
   "execution_count": 50,
   "metadata": {},
   "outputs": [
    {
     "name": "stdout",
     "output_type": "stream",
     "text": [
      "------------!"
     ]
    }
   ],
   "source": [
    "model.deploy(\n",
    "    initial_instance_count=1,\n",
    "    instance_type='ml.m4.xlarge',\n",
    "    volume_size=2\n",
    ")"
   ]
  },
  {
   "cell_type": "code",
   "execution_count": 3,
   "metadata": {},
   "outputs": [
    {
     "name": "stdout",
     "output_type": "stream",
     "text": [
      "sagemaker.config INFO - Not applying SDK defaults from location: /Library/Application Support/sagemaker/config.yaml\n",
      "sagemaker.config INFO - Not applying SDK defaults from location: /Users/janghoo/Library/Application Support/sagemaker/config.yaml\n"
     ]
    }
   ],
   "source": [
    "from sagemaker.serializers import CSVSerializer\n",
    "\n",
    "\n",
    "predictor = sagemaker.Predictor(\n",
    "    endpoint_name='canvas-New-model-2023-9-13-2-45-PM-2023-09-17-17-08-20-419',\n",
    "    serializer=CSVSerializer()\n",
    ")"
   ]
  },
  {
   "cell_type": "code",
   "execution_count": 18,
   "metadata": {},
   "outputs": [
    {
     "data": {
      "text/plain": [
       "'charged off\\n'"
      ]
     },
     "execution_count": 18,
     "metadata": {},
     "output_type": "execute_result"
    }
   ],
   "source": [
    "csv = '1077430,2500,2500.0,60,15.27,59.83,c,c4,source verified,2011/12/01,car,1.0,1999/04/01,5,3,0,9.4,4,1.0,ryder,rent,30000.0'\n",
    "predictor.predict(data=csv).decode('utf-8')"
   ]
  },
  {
   "cell_type": "code",
   "execution_count": null,
   "metadata": {},
   "outputs": [],
   "source": []
  }
 ],
 "metadata": {
  "kernelspec": {
   "display_name": "aws",
   "language": "python",
   "name": "python3"
  },
  "language_info": {
   "codemirror_mode": {
    "name": "ipython",
    "version": 3
   },
   "file_extension": ".py",
   "mimetype": "text/x-python",
   "name": "python",
   "nbconvert_exporter": "python",
   "pygments_lexer": "ipython3",
   "version": "3.9.6"
  },
  "orig_nbformat": 4
 },
 "nbformat": 4,
 "nbformat_minor": 2
}
